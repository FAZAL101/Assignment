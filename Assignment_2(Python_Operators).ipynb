{
 "cells": [
  {
   "cell_type": "markdown",
   "id": "d1b4abae",
   "metadata": {},
   "source": [
    "### 1. Calculate the sum, difference, product, and quotient of two numbers."
   ]
  },
  {
   "cell_type": "code",
   "execution_count": 2,
   "id": "fbd5ae89",
   "metadata": {},
   "outputs": [
    {
     "data": {
      "text/plain": [
       "69"
      ]
     },
     "execution_count": 2,
     "metadata": {},
     "output_type": "execute_result"
    }
   ],
   "source": [
    "# SUM \n",
    "\n",
    "a = 24\n",
    "b = 45\n",
    "a+b"
   ]
  },
  {
   "cell_type": "code",
   "execution_count": 3,
   "id": "36a3bcbd",
   "metadata": {},
   "outputs": [
    {
     "data": {
      "text/plain": [
       "55"
      ]
     },
     "execution_count": 3,
     "metadata": {},
     "output_type": "execute_result"
    }
   ],
   "source": [
    "# Difference \n",
    "\n",
    "c = 76\n",
    "d = 21\n",
    "c-d"
   ]
  },
  {
   "cell_type": "code",
   "execution_count": 4,
   "id": "c233ecab",
   "metadata": {},
   "outputs": [
    {
     "data": {
      "text/plain": [
       "408"
      ]
     },
     "execution_count": 4,
     "metadata": {},
     "output_type": "execute_result"
    }
   ],
   "source": [
    "# Product\n",
    "\n",
    "e = 51\n",
    "f = 8\n",
    "e*f"
   ]
  },
  {
   "cell_type": "code",
   "execution_count": 5,
   "id": "94a7e6b6",
   "metadata": {},
   "outputs": [
    {
     "data": {
      "text/plain": [
       "1"
      ]
     },
     "execution_count": 5,
     "metadata": {},
     "output_type": "execute_result"
    }
   ],
   "source": [
    "# Quotient\n",
    "\n",
    "g = 97\n",
    "h = 4\n",
    "g%h"
   ]
  },
  {
   "cell_type": "markdown",
   "id": "f20cc621",
   "metadata": {},
   "source": [
    "### 2. Perform various assignment operations on a variable."
   ]
  },
  {
   "cell_type": "code",
   "execution_count": 8,
   "id": "dc53304b",
   "metadata": {},
   "outputs": [],
   "source": [
    "# There are various Assignment Operators in python such as :\n",
    "# 1. ('=', Assigns Value to a Variable).\n",
    "# 2. Addition Assignment (+=).\n",
    "# 3. Subtraction Assignment (-=).\n",
    "# 4. Multiplication Assignment (*=).\n",
    "# 5.Division Assignment (/=).\n",
    "# 6. Modulus Assignment (%=).\n",
    "# 7. Floor Division Assignment (//=).\n",
    "# 8. Exponentiation Assignment (**=).\n",
    "# 9. Bitwise AND Assignment (&=).\n",
    "# 10. Bitwise OR Assignment (|=).\n",
    "# 11. Bitwise XOR Assignment (^=).\n",
    "# 12. Bitwise Right Shift Assignment (>>=) .\n",
    "# 13. Bitwise Left Shift Assignment (<<=)."
   ]
  },
  {
   "cell_type": "code",
   "execution_count": 10,
   "id": "206817df",
   "metadata": {},
   "outputs": [
    {
     "data": {
      "text/plain": [
       "'Orange'"
      ]
     },
     "execution_count": 10,
     "metadata": {},
     "output_type": "execute_result"
    }
   ],
   "source": [
    "# 1. ('=', Assigns Value to a Variable).\n",
    "\n",
    "a = 'Orange'\n",
    "a"
   ]
  },
  {
   "cell_type": "code",
   "execution_count": 4,
   "id": "5320a58a",
   "metadata": {},
   "outputs": [
    {
     "data": {
      "text/plain": [
       "23"
      ]
     },
     "execution_count": 4,
     "metadata": {},
     "output_type": "execute_result"
    }
   ],
   "source": [
    "# 2. Addition Assignment (+=).\n",
    "\n",
    "b = 23\n",
    "b"
   ]
  },
  {
   "cell_type": "code",
   "execution_count": 5,
   "id": "d5ac97bd",
   "metadata": {},
   "outputs": [
    {
     "data": {
      "text/plain": [
       "35"
      ]
     },
     "execution_count": 5,
     "metadata": {},
     "output_type": "execute_result"
    }
   ],
   "source": [
    "b+=12  #(b=b+12)\n",
    "b"
   ]
  },
  {
   "cell_type": "code",
   "execution_count": 1,
   "id": "2188c3db",
   "metadata": {},
   "outputs": [
    {
     "data": {
      "text/plain": [
       "93"
      ]
     },
     "execution_count": 1,
     "metadata": {},
     "output_type": "execute_result"
    }
   ],
   "source": [
    "# 3. Subtraction Assignment (-=).\n",
    "\n",
    "c = 93\n",
    "c"
   ]
  },
  {
   "cell_type": "code",
   "execution_count": 2,
   "id": "d09b88a8",
   "metadata": {},
   "outputs": [
    {
     "data": {
      "text/plain": [
       "64"
      ]
     },
     "execution_count": 2,
     "metadata": {},
     "output_type": "execute_result"
    }
   ],
   "source": [
    "c-=29  #(c=c-29)\n",
    "c"
   ]
  },
  {
   "cell_type": "code",
   "execution_count": 4,
   "id": "4e90eb92",
   "metadata": {},
   "outputs": [
    {
     "data": {
      "text/plain": [
       "312"
      ]
     },
     "execution_count": 4,
     "metadata": {},
     "output_type": "execute_result"
    }
   ],
   "source": [
    "# 4. Multiplication Assignment (*=).\n",
    "\n",
    "m = 78\n",
    "m*=4  #(m=m*4)\n",
    "m"
   ]
  },
  {
   "cell_type": "code",
   "execution_count": 5,
   "id": "2a6076b4",
   "metadata": {},
   "outputs": [
    {
     "data": {
      "text/plain": [
       "29.333333333333332"
      ]
     },
     "execution_count": 5,
     "metadata": {},
     "output_type": "execute_result"
    }
   ],
   "source": [
    "# 5.Division Assignment (/=).\n",
    "\n",
    "x = 352\n",
    "x/=12  #(x=x/12)\n",
    "x"
   ]
  },
  {
   "cell_type": "code",
   "execution_count": 7,
   "id": "e5d0c82d",
   "metadata": {},
   "outputs": [
    {
     "data": {
      "text/plain": [
       "1"
      ]
     },
     "execution_count": 7,
     "metadata": {},
     "output_type": "execute_result"
    }
   ],
   "source": [
    "# 6. Modulus(Remainder) Assignment (%=).\n",
    "\n",
    "y = 471\n",
    "y%=5  #(y=y%5)\n",
    "y"
   ]
  },
  {
   "cell_type": "code",
   "execution_count": 2,
   "id": "4d1692cf",
   "metadata": {},
   "outputs": [
    {
     "data": {
      "text/plain": [
       "51"
      ]
     },
     "execution_count": 2,
     "metadata": {},
     "output_type": "execute_result"
    }
   ],
   "source": [
    "# 7. Floor Division Assignment (//=). Gives the Output in Integers.\n",
    "\n",
    "z = 613\n",
    "z//=12 #(z=z//12)\n",
    "z"
   ]
  },
  {
   "cell_type": "code",
   "execution_count": 4,
   "id": "3d0c6e8b",
   "metadata": {},
   "outputs": [
    {
     "data": {
      "text/plain": [
       "1296"
      ]
     },
     "execution_count": 4,
     "metadata": {},
     "output_type": "execute_result"
    }
   ],
   "source": [
    "# 8. Exponentiation(Power) Assignment (**=).\n",
    "\n",
    "u = 6\n",
    "u**=4  #(u=u**4)\n",
    "u"
   ]
  },
  {
   "cell_type": "code",
   "execution_count": 3,
   "id": "708ce519",
   "metadata": {},
   "outputs": [
    {
     "data": {
      "text/plain": [
       "4"
      ]
     },
     "execution_count": 3,
     "metadata": {},
     "output_type": "execute_result"
    }
   ],
   "source": [
    "# 9. Bitwise AND Assignment (&=).\n",
    "\n",
    "a = 38\n",
    "a&=12\n",
    "a"
   ]
  },
  {
   "cell_type": "code",
   "execution_count": 7,
   "id": "e998554b",
   "metadata": {},
   "outputs": [
    {
     "data": {
      "text/plain": [
       "'0b100110'"
      ]
     },
     "execution_count": 7,
     "metadata": {},
     "output_type": "execute_result"
    }
   ],
   "source": [
    "bin(38)"
   ]
  },
  {
   "cell_type": "code",
   "execution_count": 5,
   "id": "dfe283b9",
   "metadata": {},
   "outputs": [
    {
     "data": {
      "text/plain": [
       "'0b1100'"
      ]
     },
     "execution_count": 5,
     "metadata": {},
     "output_type": "execute_result"
    }
   ],
   "source": [
    "bin(12)"
   ]
  },
  {
   "cell_type": "code",
   "execution_count": 6,
   "id": "e7916f0f",
   "metadata": {},
   "outputs": [
    {
     "data": {
      "text/plain": [
       "'0b100'"
      ]
     },
     "execution_count": 6,
     "metadata": {},
     "output_type": "execute_result"
    }
   ],
   "source": [
    "bin(4)"
   ]
  },
  {
   "cell_type": "code",
   "execution_count": 8,
   "id": "ed195093",
   "metadata": {},
   "outputs": [
    {
     "data": {
      "text/plain": [
       "63"
      ]
     },
     "execution_count": 8,
     "metadata": {},
     "output_type": "execute_result"
    }
   ],
   "source": [
    "# 10. Bitwise OR Assignment (|=).\n",
    "\n",
    "c = 45\n",
    "c|=31\n",
    "c"
   ]
  },
  {
   "cell_type": "code",
   "execution_count": 9,
   "id": "62a11bbb",
   "metadata": {},
   "outputs": [
    {
     "data": {
      "text/plain": [
       "'0b101101'"
      ]
     },
     "execution_count": 9,
     "metadata": {},
     "output_type": "execute_result"
    }
   ],
   "source": [
    "bin(45)"
   ]
  },
  {
   "cell_type": "code",
   "execution_count": 10,
   "id": "7b878b9c",
   "metadata": {},
   "outputs": [
    {
     "data": {
      "text/plain": [
       "'0b11111'"
      ]
     },
     "execution_count": 10,
     "metadata": {},
     "output_type": "execute_result"
    }
   ],
   "source": [
    "bin(31)"
   ]
  },
  {
   "cell_type": "code",
   "execution_count": 11,
   "id": "62a7dd20",
   "metadata": {},
   "outputs": [
    {
     "data": {
      "text/plain": [
       "'0b111111'"
      ]
     },
     "execution_count": 11,
     "metadata": {},
     "output_type": "execute_result"
    }
   ],
   "source": [
    "bin(63)"
   ]
  },
  {
   "cell_type": "code",
   "execution_count": 16,
   "id": "4f47a71c",
   "metadata": {},
   "outputs": [
    {
     "data": {
      "text/plain": [
       "29"
      ]
     },
     "execution_count": 16,
     "metadata": {},
     "output_type": "execute_result"
    }
   ],
   "source": [
    "# 11. Bitwise XOR Assignment (^=).\n",
    "\n",
    "d = 61\n",
    "d^=32\n",
    "d"
   ]
  },
  {
   "cell_type": "code",
   "execution_count": 13,
   "id": "e25239bb",
   "metadata": {},
   "outputs": [
    {
     "data": {
      "text/plain": [
       "'0b111101'"
      ]
     },
     "execution_count": 13,
     "metadata": {},
     "output_type": "execute_result"
    }
   ],
   "source": [
    "bin(61)"
   ]
  },
  {
   "cell_type": "code",
   "execution_count": 17,
   "id": "3bf20bc1",
   "metadata": {},
   "outputs": [
    {
     "data": {
      "text/plain": [
       "'0b100000'"
      ]
     },
     "execution_count": 17,
     "metadata": {},
     "output_type": "execute_result"
    }
   ],
   "source": [
    "bin(32)"
   ]
  },
  {
   "cell_type": "code",
   "execution_count": 18,
   "id": "d63e4226",
   "metadata": {},
   "outputs": [
    {
     "data": {
      "text/plain": [
       "'0b11101'"
      ]
     },
     "execution_count": 18,
     "metadata": {},
     "output_type": "execute_result"
    }
   ],
   "source": [
    "bin(29)"
   ]
  },
  {
   "cell_type": "code",
   "execution_count": 38,
   "id": "f306989b",
   "metadata": {},
   "outputs": [
    {
     "data": {
      "text/plain": [
       "96"
      ]
     },
     "execution_count": 38,
     "metadata": {},
     "output_type": "execute_result"
    }
   ],
   "source": [
    "# 12. Bitwise Left Shift Assignment (<<=) . Shifts the number of zeroes to the left side\n",
    "\n",
    "v = 12\n",
    "v<<=3  #(Will shift 3 zeroes to the left side of the binary value 12.)\n",
    "v"
   ]
  },
  {
   "cell_type": "code",
   "execution_count": 39,
   "id": "ebe3ade0",
   "metadata": {},
   "outputs": [
    {
     "data": {
      "text/plain": [
       "'0b1100'"
      ]
     },
     "execution_count": 39,
     "metadata": {},
     "output_type": "execute_result"
    }
   ],
   "source": [
    "bin(12)"
   ]
  },
  {
   "cell_type": "code",
   "execution_count": 42,
   "id": "e738d5e7",
   "metadata": {},
   "outputs": [
    {
     "data": {
      "text/plain": [
       "'0b1100000'"
      ]
     },
     "execution_count": 42,
     "metadata": {},
     "output_type": "execute_result"
    }
   ],
   "source": [
    "bin(96)"
   ]
  },
  {
   "cell_type": "code",
   "execution_count": 15,
   "id": "14495557",
   "metadata": {},
   "outputs": [
    {
     "data": {
      "text/plain": [
       "13"
      ]
     },
     "execution_count": 15,
     "metadata": {},
     "output_type": "execute_result"
    }
   ],
   "source": [
    "# 13. Bitwise Right Shift Assignment (>>=). We loose bits in this Operation\n",
    "\n",
    "f = 53\n",
    "f>>=2\n",
    "f"
   ]
  },
  {
   "cell_type": "code",
   "execution_count": 16,
   "id": "87df2eba",
   "metadata": {},
   "outputs": [
    {
     "data": {
      "text/plain": [
       "'0b110101'"
      ]
     },
     "execution_count": 16,
     "metadata": {},
     "output_type": "execute_result"
    }
   ],
   "source": [
    "bin(53)"
   ]
  },
  {
   "cell_type": "code",
   "execution_count": 17,
   "id": "65cb91a6",
   "metadata": {},
   "outputs": [
    {
     "data": {
      "text/plain": [
       "'0b1101'"
      ]
     },
     "execution_count": 17,
     "metadata": {},
     "output_type": "execute_result"
    }
   ],
   "source": [
    "bin(13)"
   ]
  },
  {
   "cell_type": "markdown",
   "id": "8b5ebfc6",
   "metadata": {},
   "source": [
    "### 3. Compare two numbers and print the results."
   ]
  },
  {
   "cell_type": "code",
   "execution_count": 18,
   "id": "372ba51a",
   "metadata": {},
   "outputs": [],
   "source": [
    "# There are various types of Comparison Operators :\n",
    "# 1. (Equal to , ==).\n",
    "# 2. (Not Equal to , !=).\n",
    "# 3. (Greater than , >).\n",
    "# 4. (Less than , <).\n",
    "# 5. (Greater than Equal to , >=).\n",
    "# 6. (Less than Equal to , <=)."
   ]
  },
  {
   "cell_type": "code",
   "execution_count": 2,
   "id": "9a3e0c7c",
   "metadata": {},
   "outputs": [
    {
     "name": "stdout",
     "output_type": "stream",
     "text": [
      "Input First Number here : 1\n",
      "Input Second Number here : 1\n",
      "Both numbers are equal.\n"
     ]
    }
   ],
   "source": [
    "# 1. (Equal to , ==).\n",
    "\n",
    "a = input('Input First Number here : ')\n",
    "\n",
    "b = input('Input Second Number here : ')\n",
    "\n",
    "if a==b:\n",
    "    print('Both numbers are equal.')\n",
    "else:\n",
    "    print('Please enter correct number.')"
   ]
  },
  {
   "cell_type": "code",
   "execution_count": 5,
   "id": "e11d682a",
   "metadata": {},
   "outputs": [
    {
     "name": "stdout",
     "output_type": "stream",
     "text": [
      "Input First Number here : 2\n",
      "Input Second Number here : 3\n",
      "Both numbers are not equal.\n"
     ]
    }
   ],
   "source": [
    "# 2. (Not Equal to , !=).\n",
    "\n",
    "a = input('Input First Number here : ')\n",
    "\n",
    "b = input('Input Second Number here : ')\n",
    "\n",
    "if a!=b:\n",
    "    print('Both numbers are not equal.')\n",
    "else:\n",
    "    print('Please enter a different number.')"
   ]
  },
  {
   "cell_type": "code",
   "execution_count": 11,
   "id": "02494f45",
   "metadata": {},
   "outputs": [
    {
     "name": "stdout",
     "output_type": "stream",
     "text": [
      "Input First Number here : 4\n",
      "Input Second Number here : 1\n",
      "a is greater than b.\n"
     ]
    }
   ],
   "source": [
    "# 3. (Greater than , >).\n",
    "\n",
    "a = input('Input First Number here : ')\n",
    "\n",
    "b = input('Input Second Number here : ')\n",
    "\n",
    "if a>b:\n",
    "    print('a is greater than b.')\n",
    "else:\n",
    "    print('Please enter correct number.')"
   ]
  },
  {
   "cell_type": "code",
   "execution_count": 10,
   "id": "5203708c",
   "metadata": {},
   "outputs": [
    {
     "name": "stdout",
     "output_type": "stream",
     "text": [
      "Input First Number here : 3\n",
      "Input Second Number here : 4\n",
      "a is less than b.\n"
     ]
    }
   ],
   "source": [
    "# 4. (Less than , <).\n",
    "\n",
    "a = input('Input First Number here : ')\n",
    "\n",
    "b = input('Input Second Number here : ')\n",
    "\n",
    "if a<b:\n",
    "    print('a is less than b.')\n",
    "else:\n",
    "    print('Please enter correct number.')"
   ]
  },
  {
   "cell_type": "code",
   "execution_count": 17,
   "id": "9d62e836",
   "metadata": {},
   "outputs": [
    {
     "name": "stdout",
     "output_type": "stream",
     "text": [
      "Input First Number here : 78\n",
      "Input Second Number here : 36\n",
      "a is greater than or equal to b.\n"
     ]
    }
   ],
   "source": [
    "# 5. (Greater than Equal to , >=).\n",
    "\n",
    "a = input('Input First Number here : ')\n",
    "\n",
    "b = input('Input Second Number here : ')\n",
    "\n",
    "if a>=b:\n",
    "    print('a is greater than or equal to b.')\n",
    "else:\n",
    "    print('a is less than b.')"
   ]
  },
  {
   "cell_type": "code",
   "execution_count": 20,
   "id": "4028b9a9",
   "metadata": {},
   "outputs": [
    {
     "name": "stdout",
     "output_type": "stream",
     "text": [
      "Input First Number here : 76\n",
      "Input Second Number here : 90\n",
      "a is less than or equal to b.\n"
     ]
    }
   ],
   "source": [
    "# 6. (Less than Equal to , <=).\n",
    "\n",
    "a = input('Input First Number here : ')\n",
    "\n",
    "b = input('Input Second Number here : ')\n",
    "\n",
    "if a<=b:\n",
    "    print('a is less than or equal to b.')\n",
    "else:\n",
    "    print('a is greater than b.')"
   ]
  },
  {
   "cell_type": "markdown",
   "id": "83ab29e0",
   "metadata": {},
   "source": [
    "### 4. Check conditions using logical operators."
   ]
  },
  {
   "cell_type": "code",
   "execution_count": 21,
   "id": "69f27dff",
   "metadata": {},
   "outputs": [],
   "source": [
    "# There are 3 logical operators in python :\n",
    "# 1. Logical and.\n",
    "# 2. Logical or.\n",
    "# 3. Logical not."
   ]
  },
  {
   "cell_type": "code",
   "execution_count": 22,
   "id": "48435f1e",
   "metadata": {},
   "outputs": [
    {
     "data": {
      "text/plain": [
       "True"
      ]
     },
     "execution_count": 22,
     "metadata": {},
     "output_type": "execute_result"
    }
   ],
   "source": [
    "# 1. Logical and.\n",
    "\n",
    "(7>5) and (5>1)"
   ]
  },
  {
   "cell_type": "code",
   "execution_count": 23,
   "id": "a4e6005b",
   "metadata": {},
   "outputs": [
    {
     "data": {
      "text/plain": [
       "False"
      ]
     },
     "execution_count": 23,
     "metadata": {},
     "output_type": "execute_result"
    }
   ],
   "source": [
    "(4<5) and (9<3)"
   ]
  },
  {
   "cell_type": "code",
   "execution_count": 25,
   "id": "edf5c39d",
   "metadata": {},
   "outputs": [
    {
     "data": {
      "text/plain": [
       "True"
      ]
     },
     "execution_count": 25,
     "metadata": {},
     "output_type": "execute_result"
    }
   ],
   "source": [
    "# 2. Logical or.\n",
    "\n",
    "(97>100) or (106>100)"
   ]
  },
  {
   "cell_type": "code",
   "execution_count": 26,
   "id": "a27998cf",
   "metadata": {},
   "outputs": [
    {
     "data": {
      "text/plain": [
       "False"
      ]
     },
     "execution_count": 26,
     "metadata": {},
     "output_type": "execute_result"
    }
   ],
   "source": [
    "(2<1) or (9>10)"
   ]
  },
  {
   "cell_type": "code",
   "execution_count": 33,
   "id": "b1e205ba",
   "metadata": {},
   "outputs": [
    {
     "name": "stdout",
     "output_type": "stream",
     "text": [
      "True\n"
     ]
    }
   ],
   "source": [
    "# 3. Logical not.\n",
    "\n",
    "l = False\n",
    "print(not (l))"
   ]
  },
  {
   "cell_type": "markdown",
   "id": "1c1271ce",
   "metadata": {},
   "source": [
    "### 5. Check the identity of variables."
   ]
  },
  {
   "cell_type": "code",
   "execution_count": 34,
   "id": "6360787d",
   "metadata": {},
   "outputs": [],
   "source": [
    "# There are two types of identity operators in python :\n",
    "# 1. is.\n",
    "# 2. is not."
   ]
  },
  {
   "cell_type": "code",
   "execution_count": 35,
   "id": "c80fe834",
   "metadata": {},
   "outputs": [
    {
     "data": {
      "text/plain": [
       "True"
      ]
     },
     "execution_count": 35,
     "metadata": {},
     "output_type": "execute_result"
    }
   ],
   "source": [
    "# 1. 'is' : It checks whether the memory location of both the variable / objects are same or not,\n",
    "# and gives output in boolean value i.e true or false.\n",
    "\n",
    "a = 5\n",
    "b = 5\n",
    "a is b"
   ]
  },
  {
   "cell_type": "code",
   "execution_count": 36,
   "id": "f939f4f7",
   "metadata": {},
   "outputs": [
    {
     "name": "stdout",
     "output_type": "stream",
     "text": [
      "4367820120\n"
     ]
    }
   ],
   "source": [
    "print(id(a))"
   ]
  },
  {
   "cell_type": "code",
   "execution_count": 38,
   "id": "96268119",
   "metadata": {},
   "outputs": [
    {
     "name": "stdout",
     "output_type": "stream",
     "text": [
      "4367820120\n"
     ]
    }
   ],
   "source": [
    "print(id(b))"
   ]
  },
  {
   "cell_type": "code",
   "execution_count": 37,
   "id": "992bf703",
   "metadata": {},
   "outputs": [
    {
     "name": "stdout",
     "output_type": "stream",
     "text": [
      "4367820120\n"
     ]
    }
   ],
   "source": [
    "print(id(5))"
   ]
  },
  {
   "cell_type": "code",
   "execution_count": 39,
   "id": "6caab128",
   "metadata": {},
   "outputs": [
    {
     "data": {
      "text/plain": [
       "False"
      ]
     },
     "execution_count": 39,
     "metadata": {},
     "output_type": "execute_result"
    }
   ],
   "source": [
    "d = 45\n",
    "e = 39\n",
    "d is e"
   ]
  },
  {
   "cell_type": "code",
   "execution_count": 40,
   "id": "7cdc892e",
   "metadata": {},
   "outputs": [
    {
     "name": "stdout",
     "output_type": "stream",
     "text": [
      "4367821400\n"
     ]
    }
   ],
   "source": [
    "print(id(d))"
   ]
  },
  {
   "cell_type": "code",
   "execution_count": 41,
   "id": "e0ce709c",
   "metadata": {},
   "outputs": [
    {
     "name": "stdout",
     "output_type": "stream",
     "text": [
      "4367821208\n"
     ]
    }
   ],
   "source": [
    "print(id(e))"
   ]
  },
  {
   "cell_type": "code",
   "execution_count": 42,
   "id": "9d06958d",
   "metadata": {},
   "outputs": [
    {
     "name": "stdout",
     "output_type": "stream",
     "text": [
      "4367821400\n"
     ]
    }
   ],
   "source": [
    "print(id(45))"
   ]
  },
  {
   "cell_type": "code",
   "execution_count": 44,
   "id": "73821624",
   "metadata": {},
   "outputs": [
    {
     "name": "stdout",
     "output_type": "stream",
     "text": [
      "4367821208\n"
     ]
    }
   ],
   "source": [
    "print(id(39))"
   ]
  },
  {
   "cell_type": "code",
   "execution_count": 43,
   "id": "de884546",
   "metadata": {},
   "outputs": [
    {
     "name": "stdout",
     "output_type": "stream",
     "text": [
      "4367820344\n"
     ]
    }
   ],
   "source": [
    "print(id(12))"
   ]
  },
  {
   "cell_type": "code",
   "execution_count": 45,
   "id": "bf330ef6",
   "metadata": {},
   "outputs": [
    {
     "data": {
      "text/plain": [
       "False"
      ]
     },
     "execution_count": 45,
     "metadata": {},
     "output_type": "execute_result"
    }
   ],
   "source": [
    "# 2. is not : It is the opposite of 'if' \n",
    "a = 8\n",
    "b = 8\n",
    "a is not b"
   ]
  },
  {
   "cell_type": "code",
   "execution_count": 47,
   "id": "3c78e222",
   "metadata": {},
   "outputs": [
    {
     "data": {
      "text/plain": [
       "True"
      ]
     },
     "execution_count": 47,
     "metadata": {},
     "output_type": "execute_result"
    }
   ],
   "source": [
    "e = 45\n",
    "f = 21\n",
    "e is not f"
   ]
  },
  {
   "cell_type": "code",
   "execution_count": 48,
   "id": "1785201b",
   "metadata": {},
   "outputs": [
    {
     "name": "stdout",
     "output_type": "stream",
     "text": [
      "4367820120\n",
      "4367820216\n",
      "True\n"
     ]
    }
   ],
   "source": [
    "a = 5\n",
    "print(id(a))\n",
    "a = 8\n",
    "print(id(a))\n",
    "print(a is a)"
   ]
  },
  {
   "cell_type": "markdown",
   "id": "5793b684",
   "metadata": {},
   "source": [
    "###  6. Perform bitwise operations on any two integers."
   ]
  },
  {
   "cell_type": "code",
   "execution_count": 51,
   "id": "9cc4849a",
   "metadata": {},
   "outputs": [],
   "source": [
    "# There are 6 types of Bitwise Operators :\n",
    "# 1. Bitwise AND (&).\n",
    "# 2. Bitwise OR (|).\n",
    "# 3. Bitwise NOT/Compliment (~).\n",
    "# 4. Bitwise XOR (^).\n",
    "# 5. Bitwise Left Shift (<<).\n",
    "# 6. Bitwise Right Shift (>>)."
   ]
  },
  {
   "cell_type": "code",
   "execution_count": 58,
   "id": "daf74e48",
   "metadata": {},
   "outputs": [
    {
     "data": {
      "text/plain": [
       "5"
      ]
     },
     "execution_count": 58,
     "metadata": {},
     "output_type": "execute_result"
    }
   ],
   "source": [
    "# 1. Bitwise AND (&).\n",
    "\n",
    "a = 77\n",
    "b = 39\n",
    "\n",
    "a & b"
   ]
  },
  {
   "cell_type": "code",
   "execution_count": 56,
   "id": "4c427dd9",
   "metadata": {},
   "outputs": [
    {
     "data": {
      "text/plain": [
       "'0b1001101'"
      ]
     },
     "execution_count": 56,
     "metadata": {},
     "output_type": "execute_result"
    }
   ],
   "source": [
    "bin(77)"
   ]
  },
  {
   "cell_type": "code",
   "execution_count": 59,
   "id": "29275f83",
   "metadata": {},
   "outputs": [
    {
     "data": {
      "text/plain": [
       "'0b100111'"
      ]
     },
     "execution_count": 59,
     "metadata": {},
     "output_type": "execute_result"
    }
   ],
   "source": [
    "bin(39)"
   ]
  },
  {
   "cell_type": "code",
   "execution_count": 60,
   "id": "30585fdb",
   "metadata": {},
   "outputs": [
    {
     "data": {
      "text/plain": [
       "'0b101'"
      ]
     },
     "execution_count": 60,
     "metadata": {},
     "output_type": "execute_result"
    }
   ],
   "source": [
    "bin(5)"
   ]
  },
  {
   "cell_type": "code",
   "execution_count": 62,
   "id": "823bf80e",
   "metadata": {},
   "outputs": [
    {
     "data": {
      "text/plain": [
       "109"
      ]
     },
     "execution_count": 62,
     "metadata": {},
     "output_type": "execute_result"
    }
   ],
   "source": [
    "# 2. Bitwise OR (|).\n",
    "\n",
    "a = 69\n",
    "b = 41\n",
    "\n",
    "a | b"
   ]
  },
  {
   "cell_type": "code",
   "execution_count": 63,
   "id": "607e23af",
   "metadata": {},
   "outputs": [
    {
     "data": {
      "text/plain": [
       "'0b1000101'"
      ]
     },
     "execution_count": 63,
     "metadata": {},
     "output_type": "execute_result"
    }
   ],
   "source": [
    "bin(69)"
   ]
  },
  {
   "cell_type": "code",
   "execution_count": 64,
   "id": "e2c8adb3",
   "metadata": {},
   "outputs": [
    {
     "data": {
      "text/plain": [
       "'0b101001'"
      ]
     },
     "execution_count": 64,
     "metadata": {},
     "output_type": "execute_result"
    }
   ],
   "source": [
    "bin(41)"
   ]
  },
  {
   "cell_type": "code",
   "execution_count": 65,
   "id": "07c4c03f",
   "metadata": {},
   "outputs": [
    {
     "data": {
      "text/plain": [
       "'0b1101101'"
      ]
     },
     "execution_count": 65,
     "metadata": {},
     "output_type": "execute_result"
    }
   ],
   "source": [
    "bin(109)"
   ]
  },
  {
   "cell_type": "code",
   "execution_count": 67,
   "id": "f963667c",
   "metadata": {},
   "outputs": [
    {
     "data": {
      "text/plain": [
       "-81"
      ]
     },
     "execution_count": 67,
     "metadata": {},
     "output_type": "execute_result"
    }
   ],
   "source": [
    "# 3. Bitwise NOT/Compliment (~).\n",
    "\n",
    "a = 80\n",
    "~a"
   ]
  },
  {
   "cell_type": "code",
   "execution_count": 68,
   "id": "36e9b514",
   "metadata": {},
   "outputs": [
    {
     "data": {
      "text/plain": [
       "'0b1010000'"
      ]
     },
     "execution_count": 68,
     "metadata": {},
     "output_type": "execute_result"
    }
   ],
   "source": [
    "bin(a)"
   ]
  },
  {
   "cell_type": "code",
   "execution_count": 71,
   "id": "5177c14d",
   "metadata": {},
   "outputs": [
    {
     "data": {
      "text/plain": [
       "'-0b1010001'"
      ]
     },
     "execution_count": 71,
     "metadata": {},
     "output_type": "execute_result"
    }
   ],
   "source": [
    "bin(-81)"
   ]
  },
  {
   "cell_type": "code",
   "execution_count": 72,
   "id": "2bb51af6",
   "metadata": {},
   "outputs": [
    {
     "data": {
      "text/plain": [
       "74"
      ]
     },
     "execution_count": 72,
     "metadata": {},
     "output_type": "execute_result"
    }
   ],
   "source": [
    "# 4. Bitwise XOR (^).\n",
    "\n",
    "a = 19\n",
    "b = 89\n",
    "\n",
    "a ^ b"
   ]
  },
  {
   "cell_type": "code",
   "execution_count": 75,
   "id": "436b46c2",
   "metadata": {},
   "outputs": [
    {
     "data": {
      "text/plain": [
       "'0b10011'"
      ]
     },
     "execution_count": 75,
     "metadata": {},
     "output_type": "execute_result"
    }
   ],
   "source": [
    "bin(a)"
   ]
  },
  {
   "cell_type": "code",
   "execution_count": 76,
   "id": "45e5496a",
   "metadata": {},
   "outputs": [
    {
     "data": {
      "text/plain": [
       "'0b1011001'"
      ]
     },
     "execution_count": 76,
     "metadata": {},
     "output_type": "execute_result"
    }
   ],
   "source": [
    "bin(b)"
   ]
  },
  {
   "cell_type": "code",
   "execution_count": 78,
   "id": "4050544f",
   "metadata": {},
   "outputs": [
    {
     "data": {
      "text/plain": [
       "'0b1001010'"
      ]
     },
     "execution_count": 78,
     "metadata": {},
     "output_type": "execute_result"
    }
   ],
   "source": [
    "bin(a^b)"
   ]
  },
  {
   "cell_type": "code",
   "execution_count": 83,
   "id": "bd5e5119",
   "metadata": {},
   "outputs": [
    {
     "data": {
      "text/plain": [
       "256"
      ]
     },
     "execution_count": 83,
     "metadata": {},
     "output_type": "execute_result"
    }
   ],
   "source": [
    "# 5. Bitwise Left Shift (<<).\n",
    "\n",
    "a = 16\n",
    "b = 4\n",
    "\n",
    "a<<b"
   ]
  },
  {
   "cell_type": "code",
   "execution_count": 80,
   "id": "242a8ee8",
   "metadata": {},
   "outputs": [
    {
     "data": {
      "text/plain": [
       "'0b10000'"
      ]
     },
     "execution_count": 80,
     "metadata": {},
     "output_type": "execute_result"
    }
   ],
   "source": [
    "bin(a)"
   ]
  },
  {
   "cell_type": "code",
   "execution_count": 81,
   "id": "00c54a58",
   "metadata": {},
   "outputs": [
    {
     "data": {
      "text/plain": [
       "'0b111'"
      ]
     },
     "execution_count": 81,
     "metadata": {},
     "output_type": "execute_result"
    }
   ],
   "source": [
    "bin(b)"
   ]
  },
  {
   "cell_type": "code",
   "execution_count": 84,
   "id": "c05428c0",
   "metadata": {},
   "outputs": [
    {
     "data": {
      "text/plain": [
       "'0b100000000'"
      ]
     },
     "execution_count": 84,
     "metadata": {},
     "output_type": "execute_result"
    }
   ],
   "source": [
    "bin(256)"
   ]
  },
  {
   "cell_type": "code",
   "execution_count": 1,
   "id": "696db080",
   "metadata": {},
   "outputs": [
    {
     "data": {
      "text/plain": [
       "8"
      ]
     },
     "execution_count": 1,
     "metadata": {},
     "output_type": "execute_result"
    }
   ],
   "source": [
    "# 6. Bitwise Right Shift (>>).\n",
    "\n",
    "a = 34\n",
    "b = 2\n",
    "\n",
    "a >> b"
   ]
  },
  {
   "cell_type": "code",
   "execution_count": 2,
   "id": "5284cb58",
   "metadata": {},
   "outputs": [
    {
     "data": {
      "text/plain": [
       "'0b100010'"
      ]
     },
     "execution_count": 2,
     "metadata": {},
     "output_type": "execute_result"
    }
   ],
   "source": [
    "bin(a)"
   ]
  },
  {
   "cell_type": "code",
   "execution_count": 3,
   "id": "b863d550",
   "metadata": {},
   "outputs": [
    {
     "data": {
      "text/plain": [
       "'0b10'"
      ]
     },
     "execution_count": 3,
     "metadata": {},
     "output_type": "execute_result"
    }
   ],
   "source": [
    "bin(b)"
   ]
  },
  {
   "cell_type": "code",
   "execution_count": 4,
   "id": "3d30cc3b",
   "metadata": {},
   "outputs": [
    {
     "data": {
      "text/plain": [
       "'0b1000'"
      ]
     },
     "execution_count": 4,
     "metadata": {},
     "output_type": "execute_result"
    }
   ],
   "source": [
    "bin(8)"
   ]
  },
  {
   "cell_type": "markdown",
   "id": "4bdfd123",
   "metadata": {},
   "source": [
    "### 7. Use unary operators to change the sign of a number."
   ]
  },
  {
   "cell_type": "code",
   "execution_count": 1,
   "id": "20485b13",
   "metadata": {},
   "outputs": [],
   "source": [
    "# We will change the sign of a number using Unary Operator.\n",
    "\n",
    "# A unary mathematical expression consists of only one component or element,\n",
    "# and in Python the plus and minus signs can be used as a single element paired with a value\n",
    "# to return the value’s identity (+), or change the sign of the value (-)."
   ]
  },
  {
   "cell_type": "code",
   "execution_count": 3,
   "id": "12f10b88",
   "metadata": {},
   "outputs": [
    {
     "name": "stdout",
     "output_type": "stream",
     "text": [
      "13\n"
     ]
    }
   ],
   "source": [
    "# Though not commonly used, the plus sign indicates the identity of the value. \n",
    "#We can use the plus sign with positive values. For Example :\n",
    "\n",
    "i = 13\n",
    "print(+i)"
   ]
  },
  {
   "cell_type": "code",
   "execution_count": 7,
   "id": "6f4480a8",
   "metadata": {},
   "outputs": [
    {
     "name": "stdout",
     "output_type": "stream",
     "text": [
      "-49.76\n"
     ]
    }
   ],
   "source": [
    "# When we use the plus sign with a negative value, it will also return the identity of that value,\n",
    "# and in this case it would be a negative value. For Example :\n",
    "\n",
    "j = -49.76\n",
    "print(+j)\n",
    "\n",
    "# With a negative value the plus sign returns the same negative value."
   ]
  },
  {
   "cell_type": "code",
   "execution_count": 8,
   "id": "bd5cd611",
   "metadata": {},
   "outputs": [
    {
     "name": "stdout",
     "output_type": "stream",
     "text": [
      "-89\n"
     ]
    }
   ],
   "source": [
    "# The minus sign, alternatively, changes the sign of a value.\n",
    "# So, when we pass a positive value we’ll find that the minus sign before the value will return a negative value.\n",
    "# For Example:\n",
    "\n",
    "k = 89\n",
    "print(-k)"
   ]
  },
  {
   "cell_type": "code",
   "execution_count": 9,
   "id": "2169d011",
   "metadata": {},
   "outputs": [
    {
     "name": "stdout",
     "output_type": "stream",
     "text": [
      "55.12\n"
     ]
    }
   ],
   "source": [
    "# Alternatively, when we use the minus sign unary operator with a negative value, a positive value will be returned:\n",
    "\n",
    "l = -55.12\n",
    "print(-l)"
   ]
  },
  {
   "cell_type": "code",
   "execution_count": 10,
   "id": "4fbe84a2",
   "metadata": {},
   "outputs": [],
   "source": [
    "# The unary arithmetic operations indicated by the plus sign and minus sign will return either the value’s identity\n",
    "# in the case of +i, or the opposite sign of the value as in -i."
   ]
  },
  {
   "cell_type": "markdown",
   "id": "1a8f5123",
   "metadata": {},
   "source": [
    "### 8. Use the ternary operator to assign values based on conditions."
   ]
  },
  {
   "cell_type": "code",
   "execution_count": 11,
   "id": "cf2478d8",
   "metadata": {},
   "outputs": [],
   "source": [
    "# The ternary operator in Python is nothing but a one-line version of the if-else statement.\n",
    "# It provides a way to write conditional statements in a single line, replacing the multi-line if-else syntax.\n",
    "# Syntax of Python ternary operator : \n",
    "# \"true_value\" if \"conditional_expression\" else \"false_value\""
   ]
  },
  {
   "cell_type": "code",
   "execution_count": 12,
   "id": "eb9dd7c8",
   "metadata": {},
   "outputs": [
    {
     "name": "stdout",
     "output_type": "stream",
     "text": [
      "Enter First Number here : 12\n",
      "Enter Second Number here : 31\n",
      "b is larger\n"
     ]
    }
   ],
   "source": [
    "a = input('Enter First Number here : ')\n",
    "b = input('Enter Second Number here : ')\n",
    "\n",
    "print('a is larger' if a>b else 'b is larger')"
   ]
  },
  {
   "cell_type": "code",
   "execution_count": 14,
   "id": "fab49685",
   "metadata": {},
   "outputs": [
    {
     "name": "stdout",
     "output_type": "stream",
     "text": [
      "Go out for a walk\n"
     ]
    }
   ],
   "source": [
    "nice_weather=True\n",
    "print(\"Go out for a walk\" if nice_weather else \"watch a movie at home\")"
   ]
  },
  {
   "cell_type": "code",
   "execution_count": 16,
   "id": "3bcd5804",
   "metadata": {},
   "outputs": [
    {
     "name": "stdout",
     "output_type": "stream",
     "text": [
      "watch a movie at home\n"
     ]
    }
   ],
   "source": [
    "nice_weather=False\n",
    "print(\"Go out for a walk\" if nice_weather else \"watch a movie at home\")"
   ]
  },
  {
   "cell_type": "code",
   "execution_count": 23,
   "id": "6f51f2fc",
   "metadata": {},
   "outputs": [
    {
     "name": "stdout",
     "output_type": "stream",
     "text": [
      "Please enter a number here : 879\n",
      "Odd Number\n"
     ]
    }
   ],
   "source": [
    "i = int(input('Please enter a number here : '))\n",
    "print('Even Number' if i%2==0 else 'Odd Number')"
   ]
  }
 ],
 "metadata": {
  "kernelspec": {
   "display_name": "Python 3 (ipykernel)",
   "language": "python",
   "name": "python3"
  },
  "language_info": {
   "codemirror_mode": {
    "name": "ipython",
    "version": 3
   },
   "file_extension": ".py",
   "mimetype": "text/x-python",
   "name": "python",
   "nbconvert_exporter": "python",
   "pygments_lexer": "ipython3",
   "version": "3.11.5"
  }
 },
 "nbformat": 4,
 "nbformat_minor": 5
}
