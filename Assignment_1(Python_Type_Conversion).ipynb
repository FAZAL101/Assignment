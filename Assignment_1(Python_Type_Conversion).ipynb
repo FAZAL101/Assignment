{
 "cells": [
  {
   "cell_type": "markdown",
   "id": "a20b6c8e-bfdf-40b4-9f30-53eac4bcc97f",
   "metadata": {},
   "source": [
    "### 1. Convert an integer to a floating-point number."
   ]
  },
  {
   "cell_type": "code",
   "execution_count": 6,
   "id": "bd241778-2815-4279-ad57-a849db71923a",
   "metadata": {
    "tags": []
   },
   "outputs": [
    {
     "data": {
      "text/plain": [
       "int"
      ]
     },
     "execution_count": 6,
     "metadata": {},
     "output_type": "execute_result"
    }
   ],
   "source": [
    "a = 12\n",
    "type(a)"
   ]
  },
  {
   "cell_type": "code",
   "execution_count": 13,
   "id": "a3ec945c-f35b-426f-80d0-202fcb426979",
   "metadata": {
    "tags": []
   },
   "outputs": [
    {
     "data": {
      "text/plain": [
       "12.0"
      ]
     },
     "execution_count": 13,
     "metadata": {},
     "output_type": "execute_result"
    }
   ],
   "source": [
    "b = float(a)\n",
    "b"
   ]
  },
  {
   "cell_type": "code",
   "execution_count": 14,
   "id": "16793aee-9849-4f59-ac8d-0aacfba0deb0",
   "metadata": {
    "tags": []
   },
   "outputs": [
    {
     "data": {
      "text/plain": [
       "float"
      ]
     },
     "execution_count": 14,
     "metadata": {},
     "output_type": "execute_result"
    }
   ],
   "source": [
    "type(b)"
   ]
  },
  {
   "cell_type": "markdown",
   "id": "a5026a71-0498-4ebb-92fe-29473997a807",
   "metadata": {},
   "source": [
    "### 2. Convert a float to an integer."
   ]
  },
  {
   "cell_type": "code",
   "execution_count": 15,
   "id": "f5e4ddab-76bb-4ed4-b557-c4c972f5aaec",
   "metadata": {
    "tags": []
   },
   "outputs": [
    {
     "data": {
      "text/plain": [
       "float"
      ]
     },
     "execution_count": 15,
     "metadata": {},
     "output_type": "execute_result"
    }
   ],
   "source": [
    "f = 54.32\n",
    "type(f)"
   ]
  },
  {
   "cell_type": "code",
   "execution_count": 16,
   "id": "0b99d5d9-82c9-4354-a341-ca28b975c271",
   "metadata": {
    "tags": []
   },
   "outputs": [
    {
     "data": {
      "text/plain": [
       "int"
      ]
     },
     "execution_count": 16,
     "metadata": {},
     "output_type": "execute_result"
    }
   ],
   "source": [
    "i = int(f)\n",
    "type(i)"
   ]
  },
  {
   "cell_type": "code",
   "execution_count": 20,
   "id": "7143cd17-7bbb-4e72-a271-09604d1864ff",
   "metadata": {
    "tags": []
   },
   "outputs": [
    {
     "data": {
      "text/plain": [
       "54"
      ]
     },
     "execution_count": 20,
     "metadata": {},
     "output_type": "execute_result"
    }
   ],
   "source": [
    "i"
   ]
  },
  {
   "cell_type": "markdown",
   "id": "6f797631-17ce-4f5e-a3f9-c25770a8e128",
   "metadata": {
    "tags": []
   },
   "source": [
    "### 3. Convert an integer to a string."
   ]
  },
  {
   "cell_type": "code",
   "execution_count": 17,
   "id": "b1209ce9-a9ad-4664-8f90-f556c0243652",
   "metadata": {
    "tags": []
   },
   "outputs": [
    {
     "data": {
      "text/plain": [
       "int"
      ]
     },
     "execution_count": 17,
     "metadata": {},
     "output_type": "execute_result"
    }
   ],
   "source": [
    "c = 49\n",
    "type(c)"
   ]
  },
  {
   "cell_type": "code",
   "execution_count": 19,
   "id": "e4b676f2-e227-46d5-a2f4-e6e299f7f1c7",
   "metadata": {
    "tags": []
   },
   "outputs": [
    {
     "data": {
      "text/plain": [
       "'49'"
      ]
     },
     "execution_count": 19,
     "metadata": {},
     "output_type": "execute_result"
    }
   ],
   "source": [
    "d = str(c)\n",
    "d"
   ]
  },
  {
   "cell_type": "code",
   "execution_count": 21,
   "id": "b587a718-97e4-4691-8998-55fa8bbfc868",
   "metadata": {
    "tags": []
   },
   "outputs": [
    {
     "data": {
      "text/plain": [
       "str"
      ]
     },
     "execution_count": 21,
     "metadata": {},
     "output_type": "execute_result"
    }
   ],
   "source": [
    "type(d)"
   ]
  },
  {
   "cell_type": "markdown",
   "id": "3df17743-1989-4bbf-b882-6dbf51a230cc",
   "metadata": {},
   "source": [
    "### 4. Convert a list to a tuple."
   ]
  },
  {
   "cell_type": "code",
   "execution_count": 22,
   "id": "94e53bba-753f-4a5e-8d5b-b14b3f8ad452",
   "metadata": {
    "tags": []
   },
   "outputs": [
    {
     "data": {
      "text/plain": [
       "list"
      ]
     },
     "execution_count": 22,
     "metadata": {},
     "output_type": "execute_result"
    }
   ],
   "source": [
    "l = [98,65.12,'Apple',True]\n",
    "type(l)"
   ]
  },
  {
   "cell_type": "code",
   "execution_count": 23,
   "id": "f3f6c2f9-0a15-4002-911b-3af8a6839815",
   "metadata": {
    "tags": []
   },
   "outputs": [
    {
     "data": {
      "text/plain": [
       "[98, 65.12, 'Apple', True]"
      ]
     },
     "execution_count": 23,
     "metadata": {},
     "output_type": "execute_result"
    }
   ],
   "source": [
    "l"
   ]
  },
  {
   "cell_type": "code",
   "execution_count": 25,
   "id": "4c7cc6df-65fd-433e-9b65-87512d5e3b86",
   "metadata": {
    "tags": []
   },
   "outputs": [
    {
     "data": {
      "text/plain": [
       "(98, 65.12, 'Apple', True)"
      ]
     },
     "execution_count": 25,
     "metadata": {},
     "output_type": "execute_result"
    }
   ],
   "source": [
    "m = tuple(l)\n",
    "m"
   ]
  },
  {
   "cell_type": "code",
   "execution_count": 26,
   "id": "372d22b2-72d3-4e0b-a56e-8cc028e1193a",
   "metadata": {
    "tags": []
   },
   "outputs": [
    {
     "data": {
      "text/plain": [
       "tuple"
      ]
     },
     "execution_count": 26,
     "metadata": {},
     "output_type": "execute_result"
    }
   ],
   "source": [
    "type(m)"
   ]
  },
  {
   "cell_type": "markdown",
   "id": "1b8a07a8-2def-4388-8908-b8733cc74690",
   "metadata": {},
   "source": [
    "### 5. Convert a tuple to a list."
   ]
  },
  {
   "cell_type": "code",
   "execution_count": 29,
   "id": "dd0b9da2-62da-4dd1-a19d-65bd27d71d8e",
   "metadata": {
    "tags": []
   },
   "outputs": [
    {
     "data": {
      "text/plain": [
       "tuple"
      ]
     },
     "execution_count": 29,
     "metadata": {},
     "output_type": "execute_result"
    }
   ],
   "source": [
    "t = (12.01,28,'Orange',False)\n",
    "type(t)"
   ]
  },
  {
   "cell_type": "code",
   "execution_count": 28,
   "id": "3c0f79dc-a1dd-4587-8d5e-6d8329c84fe0",
   "metadata": {
    "tags": []
   },
   "outputs": [
    {
     "data": {
      "text/plain": [
       "(12.01, 28, 'Orange', False)"
      ]
     },
     "execution_count": 28,
     "metadata": {},
     "output_type": "execute_result"
    }
   ],
   "source": [
    "t"
   ]
  },
  {
   "cell_type": "code",
   "execution_count": 31,
   "id": "020151a8-35e3-4ed8-9aca-39cd634ef778",
   "metadata": {
    "tags": []
   },
   "outputs": [
    {
     "data": {
      "text/plain": [
       "[12.01, 28, 'Orange', False]"
      ]
     },
     "execution_count": 31,
     "metadata": {},
     "output_type": "execute_result"
    }
   ],
   "source": [
    "k = list(t)\n",
    "k"
   ]
  },
  {
   "cell_type": "code",
   "execution_count": 32,
   "id": "b567c591-0764-46a0-890f-36f2d4254f2d",
   "metadata": {
    "tags": []
   },
   "outputs": [
    {
     "data": {
      "text/plain": [
       "list"
      ]
     },
     "execution_count": 32,
     "metadata": {},
     "output_type": "execute_result"
    }
   ],
   "source": [
    "type(k)"
   ]
  },
  {
   "cell_type": "markdown",
   "id": "ecc852d4-a5c0-4a37-a559-1a2479b4523d",
   "metadata": {},
   "source": [
    "### 6. Convert a decimal number to binary."
   ]
  },
  {
   "cell_type": "code",
   "execution_count": 34,
   "id": "1c2b3d3c-d21b-410a-a229-5c4aa2396619",
   "metadata": {
    "tags": []
   },
   "outputs": [
    {
     "data": {
      "text/plain": [
       "'0b11001'"
      ]
     },
     "execution_count": 34,
     "metadata": {},
     "output_type": "execute_result"
    }
   ],
   "source": [
    "d = 25\n",
    "bin(d)"
   ]
  },
  {
   "cell_type": "markdown",
   "id": "bf738005-3334-4f68-973e-ed69301fc711",
   "metadata": {},
   "source": [
    "### 7.  Convert a non-zero number to boolean."
   ]
  },
  {
   "cell_type": "code",
   "execution_count": 35,
   "id": "a2ad256e-1df2-4241-9d7d-0132e8d079e7",
   "metadata": {
    "tags": []
   },
   "outputs": [
    {
     "data": {
      "text/plain": [
       "int"
      ]
     },
     "execution_count": 35,
     "metadata": {},
     "output_type": "execute_result"
    }
   ],
   "source": [
    "g = 49\n",
    "type(g)"
   ]
  },
  {
   "cell_type": "code",
   "execution_count": 37,
   "id": "b7521fb2-8c41-439d-93a7-67fa4c0607f3",
   "metadata": {
    "tags": []
   },
   "outputs": [
    {
     "data": {
      "text/plain": [
       "True"
      ]
     },
     "execution_count": 37,
     "metadata": {},
     "output_type": "execute_result"
    }
   ],
   "source": [
    "h = bool(g)\n",
    "h"
   ]
  },
  {
   "cell_type": "code",
   "execution_count": 38,
   "id": "0f40a984-1369-4d05-974c-75943132b522",
   "metadata": {
    "tags": []
   },
   "outputs": [
    {
     "data": {
      "text/plain": [
       "bool"
      ]
     },
     "execution_count": 38,
     "metadata": {},
     "output_type": "execute_result"
    }
   ],
   "source": [
    "type(h)"
   ]
  }
 ],
 "metadata": {
  "kernelspec": {
   "display_name": "Python 3 (ipykernel)",
   "language": "python",
   "name": "python3"
  },
  "language_info": {
   "codemirror_mode": {
    "name": "ipython",
    "version": 3
   },
   "file_extension": ".py",
   "mimetype": "text/x-python",
   "name": "python",
   "nbconvert_exporter": "python",
   "pygments_lexer": "ipython3",
   "version": "3.11.5"
  }
 },
 "nbformat": 4,
 "nbformat_minor": 5
}
